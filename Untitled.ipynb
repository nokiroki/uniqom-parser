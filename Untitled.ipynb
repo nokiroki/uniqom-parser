{
 "cells": [
  {
   "cell_type": "code",
   "execution_count": 22,
   "id": "582eeee3",
   "metadata": {},
   "outputs": [],
   "source": [
    "import pandas as pd\n",
    "import numpy as np"
   ]
  },
  {
   "cell_type": "code",
   "execution_count": 11,
   "id": "7381268d",
   "metadata": {},
   "outputs": [
    {
     "name": "stdout",
     "output_type": "stream",
     "text": [
      "Collecting xlrd\n",
      "  Downloading xlrd-2.0.1-py2.py3-none-any.whl (96 kB)\n",
      "Installing collected packages: xlrd\n",
      "Successfully installed xlrd-2.0.1\n"
     ]
    }
   ],
   "source": [
    "!pip install xlrd"
   ]
  },
  {
   "cell_type": "code",
   "execution_count": 12,
   "id": "57e0fd7f",
   "metadata": {},
   "outputs": [],
   "source": [
    "df = pd.read_excel('data.XLS')"
   ]
  },
  {
   "cell_type": "code",
   "execution_count": 14,
   "id": "38f9445a",
   "metadata": {},
   "outputs": [
    {
     "data": {
      "text/html": [
       "<div>\n",
       "<style scoped>\n",
       "    .dataframe tbody tr th:only-of-type {\n",
       "        vertical-align: middle;\n",
       "    }\n",
       "\n",
       "    .dataframe tbody tr th {\n",
       "        vertical-align: top;\n",
       "    }\n",
       "\n",
       "    .dataframe thead th {\n",
       "        text-align: right;\n",
       "    }\n",
       "</style>\n",
       "<table border=\"1\" class=\"dataframe\">\n",
       "  <thead>\n",
       "    <tr style=\"text-align: right;\">\n",
       "      <th></th>\n",
       "      <th>Код</th>\n",
       "      <th>Торговая марка</th>\n",
       "      <th>Номер производителя</th>\n",
       "      <th>Наименование</th>\n",
       "      <th>Ост, не менее, шт.</th>\n",
       "      <th>Цена, руб.</th>\n",
       "      <th>ОЕМ</th>\n",
       "      <th>Кратность отгрузки</th>\n",
       "      <th>Штрихкод</th>\n",
       "    </tr>\n",
       "  </thead>\n",
       "  <tbody>\n",
       "    <tr>\n",
       "      <th>0</th>\n",
       "      <td>16504</td>\n",
       "      <td>KOITO</td>\n",
       "      <td>P7150B</td>\n",
       "      <td>Колпачки для ламп Koito (комплект 50 шт.)</td>\n",
       "      <td>20</td>\n",
       "      <td>711.50</td>\n",
       "      <td>NaN</td>\n",
       "      <td>1</td>\n",
       "      <td>4961065179000</td>\n",
       "    </tr>\n",
       "    <tr>\n",
       "      <th>1</th>\n",
       "      <td>15831</td>\n",
       "      <td>KOITO</td>\n",
       "      <td>P7150G</td>\n",
       "      <td>Колпачки для ламп Koito (комплект 50 шт.)</td>\n",
       "      <td>50</td>\n",
       "      <td>722.29</td>\n",
       "      <td>NaN</td>\n",
       "      <td>1</td>\n",
       "      <td>4961065179017</td>\n",
       "    </tr>\n",
       "    <tr>\n",
       "      <th>2</th>\n",
       "      <td>12859</td>\n",
       "      <td>KOITO</td>\n",
       "      <td>P7150R</td>\n",
       "      <td>Колпачки для ламп Koito (комплект 50 шт.)</td>\n",
       "      <td>50</td>\n",
       "      <td>668.38</td>\n",
       "      <td>NaN</td>\n",
       "      <td>1</td>\n",
       "      <td>4961065900352</td>\n",
       "    </tr>\n",
       "    <tr>\n",
       "      <th>3</th>\n",
       "      <td>12860</td>\n",
       "      <td>KOITO</td>\n",
       "      <td>P7150Y</td>\n",
       "      <td>Колпачки для ламп Koito (комплект 50 шт.)</td>\n",
       "      <td>20</td>\n",
       "      <td>668.38</td>\n",
       "      <td>NaN</td>\n",
       "      <td>1</td>\n",
       "      <td>4961065900369</td>\n",
       "    </tr>\n",
       "    <tr>\n",
       "      <th>4</th>\n",
       "      <td>110124</td>\n",
       "      <td>KOITO</td>\n",
       "      <td>P7350B</td>\n",
       "      <td>Колпачки для ламп Koito (комплект 50 шт.)</td>\n",
       "      <td>20</td>\n",
       "      <td>1078.03</td>\n",
       "      <td>NaN</td>\n",
       "      <td>1</td>\n",
       "      <td>4961065900185</td>\n",
       "    </tr>\n",
       "    <tr>\n",
       "      <th>...</th>\n",
       "      <td>...</td>\n",
       "      <td>...</td>\n",
       "      <td>...</td>\n",
       "      <td>...</td>\n",
       "      <td>...</td>\n",
       "      <td>...</td>\n",
       "      <td>...</td>\n",
       "      <td>...</td>\n",
       "      <td>...</td>\n",
       "    </tr>\n",
       "    <tr>\n",
       "      <th>16817</th>\n",
       "      <td>1706554</td>\n",
       "      <td>ADVICS</td>\n",
       "      <td>BF4N11</td>\n",
       "      <td>Тормозная жидкость ADVICS DOT4, 1л</td>\n",
       "      <td>100</td>\n",
       "      <td>627.52</td>\n",
       "      <td>NaN</td>\n",
       "      <td>1</td>\n",
       "      <td>4562372112591</td>\n",
       "    </tr>\n",
       "    <tr>\n",
       "      <th>16818</th>\n",
       "      <td>3434</td>\n",
       "      <td>TCL</td>\n",
       "      <td>00833</td>\n",
       "      <td>Тормозная жидкость TCL DOT4, 1л</td>\n",
       "      <td>100</td>\n",
       "      <td>662.19</td>\n",
       "      <td>NaN</td>\n",
       "      <td>1</td>\n",
       "      <td>4949329000833</td>\n",
       "    </tr>\n",
       "    <tr>\n",
       "      <th>16819</th>\n",
       "      <td>3435</td>\n",
       "      <td>TCL</td>\n",
       "      <td>00840</td>\n",
       "      <td>Тормозная жидкость TCL DOT4, 0,355л</td>\n",
       "      <td>100</td>\n",
       "      <td>304.49</td>\n",
       "      <td>NaN</td>\n",
       "      <td>1</td>\n",
       "      <td>4949329000840</td>\n",
       "    </tr>\n",
       "    <tr>\n",
       "      <th>16820</th>\n",
       "      <td>1736087</td>\n",
       "      <td>TCL</td>\n",
       "      <td>3101</td>\n",
       "      <td>Тормозная жидкость TCL DOT 5.1, 0,355л</td>\n",
       "      <td>100</td>\n",
       "      <td>445.65</td>\n",
       "      <td>NaN</td>\n",
       "      <td>1</td>\n",
       "      <td>4949329031011</td>\n",
       "    </tr>\n",
       "    <tr>\n",
       "      <th>16821</th>\n",
       "      <td>1736088</td>\n",
       "      <td>TCL</td>\n",
       "      <td>3102</td>\n",
       "      <td>Тормозная жидкость TCL DOT 5.1, 1л</td>\n",
       "      <td>50</td>\n",
       "      <td>891.30</td>\n",
       "      <td>NaN</td>\n",
       "      <td>1</td>\n",
       "      <td>4949329031028</td>\n",
       "    </tr>\n",
       "  </tbody>\n",
       "</table>\n",
       "<p>16822 rows × 9 columns</p>\n",
       "</div>"
      ],
      "text/plain": [
       "           Код Торговая марка Номер производителя  \\\n",
       "0        16504          KOITO              P7150B   \n",
       "1        15831          KOITO              P7150G   \n",
       "2        12859          KOITO              P7150R   \n",
       "3        12860          KOITO              P7150Y   \n",
       "4       110124          KOITO              P7350B   \n",
       "...        ...            ...                 ...   \n",
       "16817  1706554         ADVICS              BF4N11   \n",
       "16818     3434            TCL               00833   \n",
       "16819     3435            TCL               00840   \n",
       "16820  1736087            TCL                3101   \n",
       "16821  1736088            TCL                3102   \n",
       "\n",
       "                                    Наименование  Ост, не менее, шт.  \\\n",
       "0      Колпачки для ламп Koito (комплект 50 шт.)                  20   \n",
       "1      Колпачки для ламп Koito (комплект 50 шт.)                  50   \n",
       "2      Колпачки для ламп Koito (комплект 50 шт.)                  50   \n",
       "3      Колпачки для ламп Koito (комплект 50 шт.)                  20   \n",
       "4      Колпачки для ламп Koito (комплект 50 шт.)                  20   \n",
       "...                                          ...                 ...   \n",
       "16817         Тормозная жидкость ADVICS DOT4, 1л                 100   \n",
       "16818            Тормозная жидкость TCL DOT4, 1л                 100   \n",
       "16819        Тормозная жидкость TCL DOT4, 0,355л                 100   \n",
       "16820     Тормозная жидкость TCL DOT 5.1, 0,355л                 100   \n",
       "16821         Тормозная жидкость TCL DOT 5.1, 1л                  50   \n",
       "\n",
       "       Цена, руб.  ОЕМ  Кратность отгрузки       Штрихкод  \n",
       "0          711.50  NaN                   1  4961065179000  \n",
       "1          722.29  NaN                   1  4961065179017  \n",
       "2          668.38  NaN                   1  4961065900352  \n",
       "3          668.38  NaN                   1  4961065900369  \n",
       "4         1078.03  NaN                   1  4961065900185  \n",
       "...           ...  ...                 ...            ...  \n",
       "16817      627.52  NaN                   1  4562372112591  \n",
       "16818      662.19  NaN                   1  4949329000833  \n",
       "16819      304.49  NaN                   1  4949329000840  \n",
       "16820      445.65  NaN                   1  4949329031011  \n",
       "16821      891.30  NaN                   1  4949329031028  \n",
       "\n",
       "[16822 rows x 9 columns]"
      ]
     },
     "execution_count": 14,
     "metadata": {},
     "output_type": "execute_result"
    }
   ],
   "source": [
    "df"
   ]
  },
  {
   "cell_type": "code",
   "execution_count": 34,
   "id": "bc2e65cc",
   "metadata": {},
   "outputs": [],
   "source": [
    "df_temp = df.iloc[:-1]"
   ]
  },
  {
   "cell_type": "code",
   "execution_count": 25,
   "id": "ff0da3c5",
   "metadata": {},
   "outputs": [],
   "source": [
    "df_temp2 = df.iloc[1:11]"
   ]
  },
  {
   "cell_type": "code",
   "execution_count": 31,
   "id": "76c403ee",
   "metadata": {},
   "outputs": [
    {
     "data": {
      "text/plain": [
       "Код                                                       110130\n",
       "Торговая марка                                             KOITO\n",
       "Номер производителя                                       P7350Y\n",
       "Наименование           Колпачки для ламп Koito (комплект 50 шт.)\n",
       "Ост, не менее, шт.                                            50\n",
       "Цена, руб.                                               1022.76\n",
       "ОЕМ                                                          NaN\n",
       "Кратность отгрузки                                             1\n",
       "Штрихкод                                           4961065900239\n",
       "Name: 10, dtype: object"
      ]
     },
     "execution_count": 31,
     "metadata": {},
     "output_type": "execute_result"
    }
   ],
   "source": [
    "df.iloc[10]"
   ]
  },
  {
   "cell_type": "code",
   "execution_count": 35,
   "id": "68d133d0",
   "metadata": {},
   "outputs": [
    {
     "data": {
      "text/plain": [
       "array([1736088], dtype=int64)"
      ]
     },
     "execution_count": 35,
     "metadata": {},
     "output_type": "execute_result"
    }
   ],
   "source": [
    "np.setdiff1d(df['Код'], df_temp['Код'])"
   ]
  },
  {
   "cell_type": "code",
   "execution_count": null,
   "id": "892d9a79",
   "metadata": {},
   "outputs": [],
   "source": []
  },
  {
   "cell_type": "code",
   "execution_count": null,
   "id": "f839e7c0",
   "metadata": {},
   "outputs": [],
   "source": []
  },
  {
   "cell_type": "code",
   "execution_count": null,
   "id": "b615b946",
   "metadata": {},
   "outputs": [],
   "source": []
  },
  {
   "cell_type": "code",
   "execution_count": null,
   "id": "128592fe",
   "metadata": {},
   "outputs": [],
   "source": []
  }
 ],
 "metadata": {
  "kernelspec": {
   "display_name": "Python 3 (ipykernel)",
   "language": "python",
   "name": "python3"
  },
  "language_info": {
   "codemirror_mode": {
    "name": "ipython",
    "version": 3
   },
   "file_extension": ".py",
   "mimetype": "text/x-python",
   "name": "python",
   "nbconvert_exporter": "python",
   "pygments_lexer": "ipython3",
   "version": "3.8.12"
  }
 },
 "nbformat": 4,
 "nbformat_minor": 5
}
